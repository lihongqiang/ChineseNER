{
 "cells": [
  {
   "cell_type": "code",
   "execution_count": 1,
   "metadata": {
    "collapsed": true
   },
   "outputs": [],
   "source": [
    "def load_word2vec(path, id_to_vec):\n",
    "    word_invec = 0\n",
    "    with open(path, \"rb\") as f:\n",
    "        word_vec = pickle.load(f)\n",
    "        word2vec = []\n",
    "        for i, word in id_to_vec.items():\n",
    "            if word in word_vec:\n",
    "                word2vec.append(word_vec[word])\n",
    "                word_invec += 1\n",
    "            else:\n",
    "                word2vec.append(word_vec[\"<UNK>\"])\n",
    "    print ('find ' + str(word_invec) + ' in word2vec.')\n",
    "    return word2vec"
   ]
  },
  {
   "cell_type": "code",
   "execution_count": 8,
   "metadata": {},
   "outputs": [
    {
     "name": "stdout",
     "output_type": "stream",
     "text": [
      "12872\n"
     ]
    }
   ],
   "source": [
    "import pickle \n",
    "file = '../embedding/wiki_word2vec.pkl'\n",
    "word_vec = pickle.load(open(file, \"rb\"))\n",
    "print (len(word_vec.keys()))"
   ]
  },
  {
   "cell_type": "code",
   "execution_count": 15,
   "metadata": {},
   "outputs": [],
   "source": [
    "from gensim.models.keyedvectors import KeyedVectors\n",
    "word_vectors = KeyedVectors.load('../embedding/zh/zh.bin')  # C binary format"
   ]
  },
  {
   "cell_type": "code",
   "execution_count": 18,
   "metadata": {},
   "outputs": [
    {
     "name": "stdout",
     "output_type": "stream",
     "text": [
      "<class 'gensim.models.keyedvectors.KeyedVectors'>\n"
     ]
    }
   ],
   "source": [
    "print (type(word_vectors.wv))"
   ]
  },
  {
   "cell_type": "code",
   "execution_count": 21,
   "metadata": {},
   "outputs": [
    {
     "name": "stdout",
     "output_type": "stream",
     "text": [
      "50101\n"
     ]
    }
   ],
   "source": [
    "print (len(word_vectors.vocab))"
   ]
  },
  {
   "cell_type": "code",
   "execution_count": 22,
   "metadata": {},
   "outputs": [
    {
     "name": "stdout",
     "output_type": "stream",
     "text": [
      "True\n"
     ]
    }
   ],
   "source": [
    "print ('你' in word_vectors)"
   ]
  },
  {
   "cell_type": "code",
   "execution_count": 32,
   "metadata": {},
   "outputs": [
    {
     "name": "stdout",
     "output_type": "stream",
     "text": [
      "0.0123974,-0.0161108,0.113953,-0.0206721,-0.296849,0.0333717,-0.116066,0.0284888,0.0632764,-0.186654,0.198107,0.0373734,0.094592,0.0897812,-0.209417,-0.107555,0.228596,-0.112332,0.00629923,-0.0917881,0.0772907,0.0333546,-0.108149,0.0395139,-0.0495847,0.115166,0.00213929,0.157468,-0.0235416,-0.0440023,-0.0519611,0.0741484,0.118609,-0.197312,0.0977103,0.0662098,0.291297,0.115577,-0.140065,0.0835127,-0.537392,0.119384,-0.076522,0.0954565,-0.0660837,0.0571342,-0.00752284,-0.0320966,0.112971,0.0083828,-0.199773,-0.0473039,0.0103183,0.150188,-0.407051,-0.0313375,-0.205304,0.0701054,-0.0809467,-0.0403719,-0.38838,0.168263,-0.0719462,-0.265293,0.0604563,0.0329507,0.0593362,0.00510517,-0.0301253,-0.0257452,0.154013,-0.392062,0.147688,0.141134,-0.233924,-0.0516733,0.0430464,0.0411127,-0.00644766,-0.016719,0.182182,0.0292113,0.469613,0.0172282,0.141538,-0.0989069,-0.163462,-0.0959468,-0.0207545,0.327248,0.165677,-0.0178294,0.330997,0.0421784,0.0865335,0.0339321,-0.129773,-0.0282569,-0.00990369,-0.256167\n",
      "100\n"
     ]
    }
   ],
   "source": [
    "path = '../embedding/wiki_word2vec.pkl'\n",
    "with open(path, \"rb\") as f:\n",
    "    word_vec = pickle.load(f)\n",
    "    print (','.join([str(num) for num in word_vec[\"<UNK>\"]]))\n",
    "    print (len(word_vec[\"<PAD>\"]))"
   ]
  }
 ],
 "metadata": {
  "kernelspec": {
   "display_name": "Python 3",
   "language": "python",
   "name": "python3"
  },
  "language_info": {
   "codemirror_mode": {
    "name": "ipython",
    "version": 3
   },
   "file_extension": ".py",
   "mimetype": "text/x-python",
   "name": "python",
   "nbconvert_exporter": "python",
   "pygments_lexer": "ipython3",
   "version": "3.6.1"
  }
 },
 "nbformat": 4,
 "nbformat_minor": 2
}
